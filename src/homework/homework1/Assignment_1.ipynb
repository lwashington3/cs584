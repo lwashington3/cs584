{
 "cells": [
  {
   "cell_type": "markdown",
   "id": "9e41ebcc",
   "metadata": {},
   "source": [
    "## Assignment 1 (40 marks)\n",
    "#### =====================================================================================================\n",
    "### Deadline: 09/08 11:59 pm\n",
    "#### ====================================================================================================="
   ]
  },
  {
   "cell_type": "markdown",
   "id": "5a49cca1",
   "metadata": {},
   "source": [
    "### Problem 1: SVM Classification (30 marks)\n",
    "\n",
    "`lab01_dataset_1.xlsx` contains the claim history of 27,513 homeowner policies. The following table describes the eleven columns in the dataset.\n",
    "\n",
    "| Name | Description |\n",
    "| --- | --- |\n",
    "| policy | Policy Identifier |\n",
    "| exposure | Duration a Policy exposed in a Year |\n",
    "| num_claims | Number of Claims in a Year |\n",
    "| amt_claims | Total Claim Amount in a Year\t|\n",
    "| f_primary_age_tier | Age Tier of Primary Insured |\n",
    "| f_primary_gender | Gender of Primary Insured |\n",
    "| f_marital | Marital Status of Primary Insured |\n",
    "| f_residence_location | Location of Residence Property |\n",
    "| f_fire_alarm_type | Fire Alarm Type |\n",
    "| f_mile_fire_station | Distance to Nearest Fire Station |\n",
    "| f_aoi_tier | Amount of Insurance Tier |"
   ]
  },
  {
   "cell_type": "markdown",
   "id": "f450cd6c",
   "metadata": {},
   "source": [
    "We want to predict the *Frequency* which is the *number of claims per unit of exposure* using the above features.  We first divide the reported number of claims by the exposure. This gives us the *Frequency*.  Next, we put the policies into five groups according to their *Frequency* values. We will use this *Group* as our target variable which has five classes.\n",
    "\n",
    "| Group | Values |\n",
    "| :--- | :--- |\n",
    "| 0 | Frequency = 0 |\n",
    "| 1 | 0 < Frequency <= 1 |\n",
    "| 2 | 1 < Frequency <= 2 |\n",
    "| 3 | 2 < Frequency <= 3 |\n",
    "| 4 | 3 < Frequency |\n"
   ]
  },
  {
   "cell_type": "markdown",
   "id": "36fbfd79",
   "metadata": {},
   "source": [
    "### 1.a (5 marks)\n",
    "Create a new column for the dataset which will indiciate the *Frequency Group* and output the updated dataset."
   ]
  },
  {
   "cell_type": "code",
   "execution_count": null,
   "id": "7b501f69",
   "metadata": {},
   "outputs": [],
   "source": []
  },
  {
   "cell_type": "markdown",
   "id": "14be460f",
   "metadata": {},
   "source": [
    "### 1.b (5 marks)\n",
    "There are seven categorial features in the dataset namely, *f_aoi_tier, f_primary_age_tier, f_fire_alarm_type, f_marital, f_mile_fire_station, f_primary_gender, f_residence_location*. Display all the unique values of these seven categories."
   ]
  },
  {
   "cell_type": "code",
   "execution_count": null,
   "id": "ed2d69d5",
   "metadata": {},
   "outputs": [],
   "source": []
  },
  {
   "cell_type": "markdown",
   "id": "3b404ea4",
   "metadata": {},
   "source": [
    "### 1.c (5 marks)\n",
    "We will train SVM models using those seven categorical features. However, their values are currently all categorical data, but SVM requires them to be numerical. Perform ***one-hot encoding*** on these features to obtain an updated dataset which has only numerical values."
   ]
  },
  {
   "cell_type": "code",
   "execution_count": null,
   "id": "a68bb671",
   "metadata": {},
   "outputs": [],
   "source": []
  },
  {
   "cell_type": "markdown",
   "id": "9bc76119",
   "metadata": {},
   "source": [
    "### 1.d (5 marks)\n",
    "Divide the observations into training and testing partitions. Observations whose *Policy Identifier* starts with the letters A, G, and P will go to the training partition. The remaining observations go to the testing partition. Output the total number of policies present in the Training partition and Testing partition."
   ]
  },
  {
   "cell_type": "code",
   "execution_count": null,
   "id": "fdca0e07",
   "metadata": {},
   "outputs": [],
   "source": []
  },
  {
   "cell_type": "markdown",
   "id": "c780f6d7",
   "metadata": {},
   "source": [
    "### 1.e (5 marks)\n",
    "Train an SVM model using [LinearSVR](https://scikit-learn.org/stable/modules/generated/sklearn.svm.LinearSVR.html). The input features will be the encoded version of the feature set *f_aoi_tier, f_primary_age_tier, f_fire_alarm_type, f_marital, f_mile_fire_station, f_primary_gender, f_residence_location* and the output is the *Frequency Group*. Use `verbose=1` to observe the optimization steps during the training process."
   ]
  },
  {
   "cell_type": "code",
   "execution_count": null,
   "id": "6560ed87",
   "metadata": {},
   "outputs": [],
   "source": []
  },
  {
   "cell_type": "markdown",
   "id": "5d8c3cfd",
   "metadata": {},
   "source": [
    "### 1.f (5 marks)\n",
    "Compute and output the Accuracy Score on the Testing partition."
   ]
  },
  {
   "cell_type": "code",
   "execution_count": null,
   "id": "c360ee34",
   "metadata": {},
   "outputs": [],
   "source": []
  },
  {
   "cell_type": "markdown",
   "id": "813b67a0",
   "metadata": {},
   "source": [
    "### Problem 2: Perceptron Learning (10 marks)\n",
    "\n",
    "The dataset `lab01_dataset_2.csv` has a *3-dimensional input space* and a class label of *Positive* and *Negative*. For this task, you are **not allowed** to use any *functionalities* of the `sklearn` module."
   ]
  },
  {
   "cell_type": "markdown",
   "id": "91f5decd",
   "metadata": {},
   "source": [
    "### 2.a (5 marks)\n",
    "Write a function `my_perceptron()` which applies the perceptron algorithm (refer to the lecture slide covering linear separators for details of this algorithm) on the dataset to create a linear separator. `my_perceptron()` takes the dataset as its input and returns a ***3-dimensional weight vector*** which can be used to create the linear separator (assume `bias = 0`). Use the *initial weights* `w = [1,2,3]`. Use a classification threshold of `99%` i.e., `my_perceptron()` will terminate once the misclassification rate is less than `1%`."
   ]
  },
  {
   "cell_type": "code",
   "execution_count": null,
   "id": "a2a91443",
   "metadata": {},
   "outputs": [],
   "source": []
  },
  {
   "cell_type": "markdown",
   "id": "fba55175",
   "metadata": {},
   "source": [
    "### 2.b (5 marks)\n",
    "Create a *3D plot* which showcases the dataset in a 3D-space alongwith the *linear separator* you obtained from `my_perceptron()`. Use two different colors to represent the data points belonging in the two classes for ease of viewing."
   ]
  },
  {
   "cell_type": "code",
   "execution_count": null,
   "id": "0b64db99",
   "metadata": {},
   "outputs": [],
   "source": []
  }
 ],
 "metadata": {
  "kernelspec": {
   "display_name": "Python 3 (ipykernel)",
   "language": "python",
   "name": "python3"
  },
  "language_info": {
   "codemirror_mode": {
    "name": "ipython",
    "version": 3
   },
   "file_extension": ".py",
   "mimetype": "text/x-python",
   "name": "python",
   "nbconvert_exporter": "python",
   "pygments_lexer": "ipython3",
   "version": "3.8.5"
  }
 },
 "nbformat": 4,
 "nbformat_minor": 5
}
